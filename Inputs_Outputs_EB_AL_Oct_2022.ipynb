{
  "nbformat": 4,
  "nbformat_minor": 0,
  "metadata": {
    "colab": {
      "provenance": [],
      "collapsed_sections": [],
      "authorship_tag": "ABX9TyPKc6S532BHZ6n0TjtD+8xO",
      "include_colab_link": true
    },
    "kernelspec": {
      "name": "python3",
      "display_name": "Python 3"
    },
    "language_info": {
      "name": "python"
    }
  },
  "cells": [
    {
      "cell_type": "markdown",
      "metadata": {
        "id": "view-in-github",
        "colab_type": "text"
      },
      "source": [
        "<a href=\"https://colab.research.google.com/github/edgarbarroso/ISR/blob/master/Inputs_Outputs_EB_AL_Oct_2022.ipynb\" target=\"_parent\"><img src=\"https://colab.research.google.com/assets/colab-badge.svg\" alt=\"Open In Colab\"/></a>"
      ]
    },
    {
      "cell_type": "markdown",
      "source": [
        "**EB**"
      ],
      "metadata": {
        "id": "vWIzSsfSpb-8"
      }
    },
    {
      "cell_type": "code",
      "execution_count": 164,
      "metadata": {
        "id": "uTwOZZYvfrJy"
      },
      "outputs": [],
      "source": [
        "# Fecha 15-10-2022\n",
        "saldo_al_dia_del_calculo_Banorte_EB = 131501.02  \n",
        "saldo_al_dia_del_calculo_UBS_EB = 1400000\n",
        "saldo_al_dia_del_calculo_bbva_AL = 641000\n",
        "saldo_al_dia_del_calculo_bbva_AB = 330000"
      ]
    },
    {
      "cell_type": "code",
      "source": [
        "# Sumadora INGRESOS EB\n",
        "suma_ingresos_mensuales_EB = 6000 + 47998.14 + 34800 + 63800 + 19165.28 + 67760 + 45000\n",
        "print('Ingresos Mensuales EB', '$', f'{suma_ingresos_mensuales_EB:,.2f}')  "
      ],
      "metadata": {
        "colab": {
          "base_uri": "https://localhost:8080/"
        },
        "id": "C6BHlLbsjlaA",
        "outputId": "4aa1c412-ade7-4c5d-bfe1-e518ccc86651"
      },
      "execution_count": 165,
      "outputs": [
        {
          "output_type": "stream",
          "name": "stdout",
          "text": [
            "Ingresos Mensuales EB $ 284,523.42\n"
          ]
        }
      ]
    },
    {
      "cell_type": "code",
      "source": [
        "# Sumadora GASTOS EB\n",
        "suma_gastos_mensuales_EB = 69939.86 + 34800 + 299 + 54034.11 + 19779 \n",
        "print('Gastos Mensuales EB', '$', f'{suma_gastos_mensuales_EB:,.2f}')  "
      ],
      "metadata": {
        "colab": {
          "base_uri": "https://localhost:8080/"
        },
        "id": "7Y6U1K9tjOcv",
        "outputId": "23cffa6b-4a92-4e30-b545-029fecf3c15f"
      },
      "execution_count": 166,
      "outputs": [
        {
          "output_type": "stream",
          "name": "stdout",
          "text": [
            "Gastos Mensuales EB $ 178,851.97\n"
          ]
        }
      ]
    },
    {
      "cell_type": "code",
      "source": [
        "# Ganancias Mensuales EB \n",
        "ganancias_mensuales_EB = suma_ingresos_mensuales_EB - suma_gastos_mensuales_EB\n",
        "print('Ganancias Mensuales', '$', f'{ganancias_mensuales_EB:,.2f}')\n"
      ],
      "metadata": {
        "colab": {
          "base_uri": "https://localhost:8080/"
        },
        "id": "UkcavOSjkLIm",
        "outputId": "bb8deac0-df33-44db-882b-c7066c3f8578"
      },
      "execution_count": 167,
      "outputs": [
        {
          "output_type": "stream",
          "name": "stdout",
          "text": [
            "Ganancias Mensuales $ 105,671.45\n"
          ]
        }
      ]
    },
    {
      "cell_type": "code",
      "source": [
        "# Distribución de ganancias EB\n",
        "ahorro_mensual_banorte_EB = ganancias_mensuales_EB * .75\n",
        "print('Ahorro mensual a Banorte', '$', f'{ahorro_mensual_banorte_EB:,.2f}')"
      ],
      "metadata": {
        "colab": {
          "base_uri": "https://localhost:8080/"
        },
        "id": "mj6Ca3ielKA9",
        "outputId": "d6607fa2-6aa6-443c-8e2d-247701efb3af"
      },
      "execution_count": 168,
      "outputs": [
        {
          "output_type": "stream",
          "name": "stdout",
          "text": [
            "Ahorro mensual a Banorte $ 79,253.59\n"
          ]
        }
      ]
    },
    {
      "cell_type": "code",
      "source": [
        "# Ahorro mensual en la cuenta de UBS\n",
        "ahorro_mensual_ubs = ganancias_mensuales_EB * .25\n",
        "print('Ahorro mensual UBS', '$', f'{ahorro_mensual_ubs:,.2f}')"
      ],
      "metadata": {
        "colab": {
          "base_uri": "https://localhost:8080/"
        },
        "id": "KUwxDbjtmqjt",
        "outputId": "593a8c55-0458-41e3-8e78-7b5ae7476995"
      },
      "execution_count": 169,
      "outputs": [
        {
          "output_type": "stream",
          "name": "stdout",
          "text": [
            "Ahorro mensual UBS $ 26,417.86\n"
          ]
        }
      ]
    },
    {
      "cell_type": "markdown",
      "source": [
        "**AL**"
      ],
      "metadata": {
        "id": "qi6P1V2jpXx-"
      }
    },
    {
      "cell_type": "code",
      "source": [
        "# Sumadora INGRESOS AL\n",
        "suma_ingresos_mensuales_AL = 330600 + 66624 + 66624 \n",
        "print('Ingresos Mensuales AL', '$', f'{suma_ingresos_mensuales_AL:,.2f}')  "
      ],
      "metadata": {
        "colab": {
          "base_uri": "https://localhost:8080/"
        },
        "outputId": "220bc169-ab67-463b-d6e7-5c71d1907683",
        "id": "mtgYZJPbph-5"
      },
      "execution_count": 170,
      "outputs": [
        {
          "output_type": "stream",
          "name": "stdout",
          "text": [
            "Ingresos Mensuales AL $ 463,848.00\n"
          ]
        }
      ]
    },
    {
      "cell_type": "code",
      "source": [
        "# Sumadora GASTOS AL\n",
        "suma_gastos_mensuales_AL = 23220 + 2784 + 24000 + 11000 + 6000 + 903.30 + 1200 + 1806.6 + 364.01 + 34800 + 2094.07 + 95212 + 62640 + 18377 + 25087 + 1818.34 + 1054.55 + 15330.36 + 15330.36 + 15000 + 10000 \n",
        "print('Gastos Mensuales AL', '$', f'{suma_gastos_mensuales_AL:,.2f}')  "
      ],
      "metadata": {
        "colab": {
          "base_uri": "https://localhost:8080/"
        },
        "outputId": "0ce7813f-9a46-4f0c-9958-b158c6ac2995",
        "id": "FGY9YXo4ph-5"
      },
      "execution_count": 171,
      "outputs": [
        {
          "output_type": "stream",
          "name": "stdout",
          "text": [
            "Gastos Mensuales AL $ 368,021.59\n"
          ]
        }
      ]
    },
    {
      "cell_type": "code",
      "source": [
        "# Ganancias Mensuales AL\n",
        "ganancias_mensuales_AL = suma_ingresos_mensuales_AL - suma_gastos_mensuales_AL\n",
        "if  ganancias_mensuales_AL >= 0:\n",
        "    print('Ganancias Mensuales', '$', f'{ganancias_mensuales_AL:,.2f}')\n",
        "elif ganancias_mensuales_AL == 0:\n",
        "    print('Punto de equilibrio:', '$', f'{ganancias_mensuales_AL:,.2f}')\n",
        "elif ganancias_mensuales_AL <= 0:\n",
        "    print('Pérdidas mensuales:', '$', f'{ganancias_mensuales_AL:,.2f}')\n"
      ],
      "metadata": {
        "colab": {
          "base_uri": "https://localhost:8080/"
        },
        "outputId": "722dcb96-bfa8-4dcb-84c7-7bd9edd0148e",
        "id": "78qUrIrRph-5"
      },
      "execution_count": 172,
      "outputs": [
        {
          "output_type": "stream",
          "name": "stdout",
          "text": [
            "Ganancias Mensuales $ 95,826.41\n"
          ]
        }
      ]
    },
    {
      "cell_type": "code",
      "source": [
        "# Ahorror mensual AL\n",
        "ahorro_mensual_bbva_AL = ganancias_mensuales_AL * .40\n",
        "if  ahorro_mensual_bbva_AL >= 0:\n",
        "    print('Ahorro mensual BBVA AL:', '$', f'{ahorro_mensual_bbva_AL:,.2f}')\n",
        "elif ahorro_mensual_bbva_AL == 0:\n",
        "    print('Punto de equilibrio:', '$', f'{ahorro_mensual_bbva_AL:,.2f}')\n",
        "elif ahorro_mensual_bbva_AL <= 0:\n",
        "    print('Pérdidas mensual BBVA AL:', '$', f'{ahorro_mensual_bbva_AL:,.2f}')\n"
      ],
      "metadata": {
        "colab": {
          "base_uri": "https://localhost:8080/"
        },
        "outputId": "ea577aac-e637-424d-bb35-bbb94e47b0f0",
        "id": "Tb4M4gqzph-5"
      },
      "execution_count": 173,
      "outputs": [
        {
          "output_type": "stream",
          "name": "stdout",
          "text": [
            "Ahorro mensual BBVA AL: $ 38,330.56\n"
          ]
        }
      ]
    },
    {
      "cell_type": "code",
      "source": [
        "# Ganancia mensual de AL a EB\n",
        "ganancia_mensual_de_AL_a_EB = ganancias_mensuales_AL * .20\n",
        "if  ganancia_mensual_de_AL_a_EB >= 0:\n",
        "    print('Ganancia mensual banorte_EB:', '$', f'{ganancia_mensual_de_AL_a_EB:,.2f}')\n",
        "elif ganancia_mensual_de_AL_a_EB == 0:\n",
        "    print('Punto de equilibrio:', '$', f'{ganancia_mensual_de_AL_a_EB:,.2f}')\n",
        "elif ahorro_mensual_banorte_EB <= 0:\n",
        "    print('Pérdidas mensual banorte EB:', '$', f'{ganancia_mensual_de_AL_a_EB:,.2f}')"
      ],
      "metadata": {
        "id": "ckDyRhGftT5B",
        "colab": {
          "base_uri": "https://localhost:8080/"
        },
        "outputId": "123517d4-8436-4e97-d27f-61787458a685"
      },
      "execution_count": 174,
      "outputs": [
        {
          "output_type": "stream",
          "name": "stdout",
          "text": [
            "Ganancia mensual banorte_EB: $ 19,165.28\n"
          ]
        }
      ]
    },
    {
      "cell_type": "code",
      "source": [
        "# Ahorro mensual en la cuenta de AB\n",
        "ahorro_mensual_AB = ganancias_mensuales_AL * .40\n",
        "if  ahorro_mensual_AB >= 0:\n",
        "    print('Ahorro mensual BBVA AB:', '$', f'{ahorro_mensual_AB:,.2f}')\n",
        "elif ahorro_mensual_AB == 0:\n",
        "    print('Punto de equilibrio:', '$', f'{ahorro_mensual_AB:,.2f}')\n",
        "elif ahorro_mensual_AB <= 0:\n",
        "    print('Pérdidas mensual BBVA AB:', '$', f'{ahorro_mensual_AB:,.2f}')"
      ],
      "metadata": {
        "colab": {
          "base_uri": "https://localhost:8080/"
        },
        "outputId": "4b4208cf-d6a4-4f43-fd9d-cd325ec4e8cd",
        "id": "XdvHP0Z2tLBF"
      },
      "execution_count": 175,
      "outputs": [
        {
          "output_type": "stream",
          "name": "stdout",
          "text": [
            "Ahorro mensual BBVA AB: $ 38,330.56\n"
          ]
        }
      ]
    },
    {
      "cell_type": "code",
      "source": [
        "# Nuevo saldo Banorte EB\n",
        "nuevo_saldo_banorte_fin_de_mes_EB = saldo_al_dia_del_calculo_Banorte_EB + ahorro_mensual_banorte_EB + ganancia_mensual_de_AL_a_EB\n",
        "print('Nuevo Saldo Banorte:', '$', f'{nuevo_saldo_banorte_fin_de_mes_EB:,.2f}')"
      ],
      "metadata": {
        "colab": {
          "base_uri": "https://localhost:8080/"
        },
        "id": "gtNmRqbAm2lA",
        "outputId": "d339c2e7-28ab-4b44-93cb-4dd89ccaf446"
      },
      "execution_count": 176,
      "outputs": [
        {
          "output_type": "stream",
          "name": "stdout",
          "text": [
            "Nuevo Saldo Banorte: $ 229,919.89\n"
          ]
        }
      ]
    },
    {
      "cell_type": "code",
      "source": [
        "# Nuevo saldo BBVA AB\n",
        "nuevo_saldo_bbva_fin_de_mes_AB = saldo_al_dia_del_calculo_bbva_AB + ganancia_mensual_de_AL_a_EB\n",
        "print('Nuevo Saldo BBVA AB:', '$', f'{nuevo_saldo_bbva_fin_de_mes_AB:,.2f}')"
      ],
      "metadata": {
        "colab": {
          "base_uri": "https://localhost:8080/"
        },
        "id": "BucGAkxLM1zp",
        "outputId": "2458e3b8-99b4-4173-c49e-2b71ed185f03"
      },
      "execution_count": 177,
      "outputs": [
        {
          "output_type": "stream",
          "name": "stdout",
          "text": [
            "Nuevo Saldo BBVA AB: $ 349,165.28\n"
          ]
        }
      ]
    },
    {
      "cell_type": "code",
      "source": [
        "# Nuevo saldo BBVA AL\n",
        "nuevo_saldo_bbva_fin_de_mes_AL = saldo_al_dia_del_calculo_bbva_AL + ahorro_mensual_bbva_AL\n",
        "print('Nuevo Saldo BBVA AL', '$', f'{nuevo_saldo_bbva_fin_de_mes_AL:,.2f}')"
      ],
      "metadata": {
        "colab": {
          "base_uri": "https://localhost:8080/"
        },
        "outputId": "e1562e01-47aa-4d6e-aee2-c39bd4d35a97",
        "id": "GhTBrSxrph-6"
      },
      "execution_count": 178,
      "outputs": [
        {
          "output_type": "stream",
          "name": "stdout",
          "text": [
            "Nuevo Saldo BBVA AL $ 679,330.56\n"
          ]
        }
      ]
    },
    {
      "cell_type": "code",
      "source": [
        "# Nuevo saldo UBS EB\n",
        "nuevo_saldo_ubs_fin_de_mes_EB = saldo_al_dia_del_calculo_UBS_EB + ganancia_mensual_de_AL_a_EB\n",
        "print('Nuevo Saldo UBS:', '$', f'{nuevo_saldo_ubs_fin_de_mes_EB:,.2f}')"
      ],
      "metadata": {
        "colab": {
          "base_uri": "https://localhost:8080/"
        },
        "id": "c8G8kEaOHIP5",
        "outputId": "f3c27019-e28d-4d57-9f81-cee3a314ad7d"
      },
      "execution_count": 179,
      "outputs": [
        {
          "output_type": "stream",
          "name": "stdout",
          "text": [
            "Nuevo Saldo UBS: $ 1,419,165.28\n"
          ]
        }
      ]
    },
    {
      "cell_type": "code",
      "source": [
        "from prettytable import PrettyTable\n",
        "\n",
        "# Hay que cambiar las strings por valores de las variables. \n",
        "# Specify the Column Names while initializing the Table\n",
        "myTable = PrettyTable([\"BanorteEB\", \"BBVA_AB\", \"BBVA_AL\", \"UBS\", \"Total\"])\n",
        " \n",
        "# Add rows\n",
        "myTable.add_row([f\"${nuevo_saldo_banorte_fin_de_mes_EB:,.2f}\", f\"${nuevo_saldo_bbva_fin_de_mes_AB:,.2f}\", f\"${nuevo_saldo_bbva_fin_de_mes_AL:,.2f}\", f'${nuevo_saldo_ubs_fin_de_mes_EB:,.2f}', f'${nuevo_saldo_banorte_fin_de_mes_EB + nuevo_saldo_bbva_fin_de_mes_AB + nuevo_saldo_bbva_fin_de_mes_AL + nuevo_saldo_ubs_fin_de_mes_EB:,.2f}'])\n",
        "print(myTable)\n",
        "\n"
      ],
      "metadata": {
        "colab": {
          "base_uri": "https://localhost:8080/"
        },
        "id": "kKbCDo6LRHdD",
        "outputId": "62db702f-1e04-4e46-870b-480f039d9f95"
      },
      "execution_count": 180,
      "outputs": [
        {
          "output_type": "stream",
          "name": "stdout",
          "text": [
            "+-------------+-------------+-------------+---------------+---------------+\n",
            "|  BanorteEB  |   BBVA_AB   |   BBVA_AL   |      UBS      |     Total     |\n",
            "+-------------+-------------+-------------+---------------+---------------+\n",
            "| $229,919.89 | $349,165.28 | $679,330.56 | $1,419,165.28 | $2,677,581.02 |\n",
            "+-------------+-------------+-------------+---------------+---------------+\n"
          ]
        }
      ]
    },
    {
      "cell_type": "code",
      "source": [
        "subtotal = 375000\n",
        "rate_iva = .16\n",
        "iva = subtotal * rate_iva\n",
        "total = subtotal + iva\n",
        "print(total)"
      ],
      "metadata": {
        "colab": {
          "base_uri": "https://localhost:8080/"
        },
        "id": "fUnavvQONP_Z",
        "outputId": "179f3f25-d9f6-45d1-ab63-59c6eac7e085"
      },
      "execution_count": 181,
      "outputs": [
        {
          "output_type": "stream",
          "name": "stdout",
          "text": [
            "435000.0\n"
          ]
        }
      ]
    }
  ]
}